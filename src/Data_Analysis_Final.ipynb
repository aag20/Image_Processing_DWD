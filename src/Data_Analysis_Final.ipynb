{
 "cells": [
  {
   "cell_type": "code",
   "execution_count": null,
   "id": "2d38635b",
   "metadata": {},
   "outputs": [],
   "source": [
    "import requests\n",
    "import os\n",
    "import tarfile\n",
    "import gzip\n",
    "from pathlib import Path\n",
    "import shutil\n",
    "import numpy as np\n",
    "import tensorflow as tf\n",
    "import matplotlib.pyplot as plt\n",
    "from mpl_toolkits.mplot3d import Axes3D\n",
    "import pandas as pd\n",
    "import pyarrow as pa\n",
    "import pyarrow.parquet as pq\n",
    "from bs4 import BeautifulSoup\n",
    "from PIL import Image\n",
    "from datetime import datetime, timedelta\n",
    "import rasterio"
   ]
  },
  {
   "cell_type": "code",
   "execution_count": null,
   "id": "340ce024",
   "metadata": {},
   "outputs": [],
   "source": [
    "directory_path = \"/home/arman_abouali/Downloads/DWD\""
   ]
  },
  {
   "cell_type": "code",
   "execution_count": null,
   "id": "40a6c403",
   "metadata": {},
   "outputs": [],
   "source": [
    "parquet_df =  pd.read_parquet(\"/home/arman_abouali/Downloads/DWD/Original_files/DWD_window/X_data_window.parquet\")\n",
    "parquet_df = parquet_df.sort_values(by='Key', ascending=True)\n",
    "parquet_df['Key'] = pd.to_datetime(parquet_df['Key'], format='%Y%m%d_%H%M')\n",
    "parquet_df['Image_Sum'] = parquet_df['Value'].apply(lambda x: sum(sum(row) for row in x))\n",
    "parquet_df.reset_index(drop=True, inplace=True)\n",
    "#parquet_df"
   ]
  },
  {
   "cell_type": "code",
   "execution_count": null,
   "id": "4d974b87",
   "metadata": {},
   "outputs": [],
   "source": [
    "# Now you can perform your operations\n",
    "parquet_idx = pd.date_range(\"2003-11-01 00:00:00\", \"2017-12-31 23:45:00\", freq=\"15min\")\n",
    "parquet_df.reset_index(drop=True, inplace=True)\n",
    "parquet_df = parquet_df.set_index(parquet_idx)\n",
    "parquet_df = parquet_df.reindex(parquet_idx)\n",
    "parquet_df = parquet_df.drop('Key', axis=1)"
   ]
  },
  {
   "cell_type": "code",
   "execution_count": null,
   "id": "492e7b1d",
   "metadata": {},
   "outputs": [],
   "source": [
    "input_df = pd.read_csv('/home/arman_abouali/Downloads/DWD/input.csv', sep=';')\n",
    "\n",
    "input_df['Zeit'] = input_df['Zeit'].replace(\"24:00:00\", \"00:00:00\")\n",
    "input_df['Zeit'] = pd.to_datetime(input_df['Datum'] + ' ' + input_df['Zeit'], format='%d.%m.%Y %H:%M:%S')\n",
    "input_df = input_df.drop('Datum', axis=1)\n",
    "input_df = input_df.sort_values(by='Zeit', ascending=True).reset_index(drop=True)\n",
    "input_df['Sensor_Sum'] = input_df['GranetalsperreMin15Niederschlag'] + input_df['HahnenkleeMin15Niederschlag'] + input_df['Niederschlag_Gosequelle'] + input_df['Niederschlag_Abzuchtquelle']\n",
    "input_df\n"
   ]
  },
  {
   "cell_type": "code",
   "execution_count": null,
   "id": "ff32adce",
   "metadata": {},
   "outputs": [],
   "source": [
    "idx = pd.date_range(\"2003-11-01 00:00:00\", \"2018-06-30 23:45:00\", freq=\"15min\")\n",
    "input_df.reset_index(drop=True, inplace=True)\n",
    "input_df = input_df.set_index(idx)\n",
    "input_df = input_df.reindex(idx)"
   ]
  },
  {
   "cell_type": "code",
   "execution_count": null,
   "id": "2ff36c36",
   "metadata": {},
   "outputs": [],
   "source": [
    "input_df = input_df.drop('Zeit', axis=1)"
   ]
  },
  {
   "cell_type": "code",
   "execution_count": null,
   "id": "22d062d0",
   "metadata": {},
   "outputs": [],
   "source": [
    "# Merge the DataFrames on their indices\n",
    "merged_df = pd.merge(input_df, parquet_df, left_index=True, right_index=True, how='inner')\n",
    "merged_df"
   ]
  },
  {
   "cell_type": "code",
   "execution_count": null,
   "id": "cd2b3293",
   "metadata": {},
   "outputs": [],
   "source": [
    "merged_df.to_csv('merged_df.csv', index=True)"
   ]
  },
  {
   "cell_type": "code",
   "execution_count": null,
   "id": "c257d884",
   "metadata": {},
   "outputs": [],
   "source": [
    "max_image_sum_timestamp = merged_df['Image_Sum'].idxmax()\n",
    "\n",
    "print(\"Timestamp with maximum 'Image_Sum':\", max_image_sum_timestamp)"
   ]
  },
  {
   "cell_type": "code",
   "execution_count": null,
   "id": "786600d6",
   "metadata": {},
   "outputs": [],
   "source": [
    "specific_row = merged_df.loc['2017-06-26 06:15:00']\n",
    "\n",
    "# Access the 'Value' column of that specific row\n",
    "specific_value = specific_row['Image_Sum']\n",
    "\n",
    "print(specific_value)"
   ]
  },
  {
   "cell_type": "code",
   "execution_count": null,
   "id": "0774eb48",
   "metadata": {},
   "outputs": [],
   "source": [
    "merged_df['Sub'] = merged_df['Sensor_Sum'] - merged_df['Image_Sum']\n",
    "mean_sub = merged_df['Sub'].mean()\n",
    "mean_sub"
   ]
  },
  {
   "cell_type": "code",
   "execution_count": null,
   "id": "209758e1",
   "metadata": {},
   "outputs": [],
   "source": [
    "# Filter rows where 'Image_Sum' is less than 'Sensor_Sum'\n",
    "filtered_df = merged_df[merged_df['Image_Sum'] < merged_df['Sensor_Sum']]\n",
    "\n",
    "filtered_df = filtered_df[['Image_Sum', 'Sensor_Sum', 'Sub']]\n",
    "\n",
    "print(filtered_df.shape)"
   ]
  },
  {
   "cell_type": "code",
   "execution_count": null,
   "id": "b1dde16c",
   "metadata": {},
   "outputs": [],
   "source": [
    "# Plotting\n",
    "plt.figure(figsize=(10, 8))\n",
    "\n",
    "plt.plot(merged_df['Image_Sum'], label='Image_Sum', color='Green')\n",
    "plt.plot(merged_df['Sensor_Sum'], label='Sensor_Sum', color='red')\n",
    "plt.legend()\n",
    "plt.title(\"Comparison between 'Image_Sum' and 'Sensor_Sum'\")\n",
    "plt.xlabel('Index')\n",
    "plt.ylabel('Value')\n",
    "plt.show()\n",
    "\n",
    "# Counting the number of times 'Sum' is greater or equal to 'Niederschlag_Sum'\n",
    "count_ge = sum(merged_df['Image_Sum'] < merged_df['Sensor_Sum'])\n",
    "print(f\"The number of times 'Image_Sum' is less than 'Sensor_Sum' is {count_ge}.\")"
   ]
  },
  {
   "cell_type": "code",
   "execution_count": null,
   "id": "da63252e",
   "metadata": {},
   "outputs": [],
   "source": [
    "import seaborn as sns\n",
    "sns.boxplot(x=merged_df['Sub'])"
   ]
  },
  {
   "cell_type": "code",
   "execution_count": null,
   "id": "5b0255b7",
   "metadata": {},
   "outputs": [],
   "source": [
    "import pandas as pd\n",
    "\n",
    "# Calculations\n",
    "mean_val = filtered_df['Sub'].mean()\n",
    "max_val = filtered_df['Sub'].max()\n",
    "min_val = filtered_df['Sub'].min()\n",
    "median_val = filtered_df['Sub'].median()\n",
    "mode_val = filtered_df['Sub'].mode()\n",
    "\n",
    "# Display\n",
    "print(f\"Mean: {mean_val}\")\n",
    "print(f\"Max: {max_val}\")\n",
    "print(f\"Min: {min_val}\")\n",
    "print(f\"Median: {median_val}\")\n",
    "print(f\"Mode: {mode_val.values}\")\n"
   ]
  },
  {
   "cell_type": "code",
   "execution_count": null,
   "id": "26eb5648",
   "metadata": {},
   "outputs": [],
   "source": [
    "import matplotlib.pyplot as plt\n",
    "import numpy as np\n",
    "\n",
    "# Assume filtered_df['Sub'] contains your data\n",
    "# bins for the histogram\n",
    "bins = list(range(0, 46))\n",
    "\n",
    "# Plotting\n",
    "plt.figure(figsize=(35, 15))\n",
    "\n",
    "# Getting histogram data\n",
    "n, bin_edges, patches = plt.hist(filtered_df['Sub'], bins=bins, edgecolor='k', alpha=0.7)\n",
    "\n",
    "# Adding frequency annotations\n",
    "for i in range(len(n)):\n",
    "    plt.text(bin_edges[i]+0.5, n[i], str(int(n[i])), ha='center', fontsize=16)\n",
    "\n",
    "plt.title('Histogram of \"Sub\" Values', fontsize=20)\n",
    "plt.xlabel('Sub Value Range', fontsize=20)\n",
    "plt.ylabel('Frequency', fontsize=20)\n",
    "plt.xticks(bins, fontsize=20)  # setting x-ticks for better readability\n",
    "plt.yticks(fontsize=20)\n",
    "plt.grid(True, which='both', linestyle='--', linewidth=0.5)\n",
    "plt.savefig('your_plot.png')\n",
    "plt.show()\n",
    "\n"
   ]
  },
  {
   "cell_type": "code",
   "execution_count": null,
   "id": "aa13b6d6",
   "metadata": {},
   "outputs": [],
   "source": [
    "# Define the path to your .asc file\n",
    "path = \"/home/arman_abouali/Downloads/DWD/YW2017.002_201708_asc/YW2017.002_20170801_asc.tar/YW_2017.002_20170801_0020.asc\"\n",
    "\n",
    "# Open the .asc file with Rasterio\n",
    "with rasterio.open(path) as src:\n",
    "    # Read the first band (assuming it's a single-band image)\n",
    "    image_data = src.read(1)\n",
    "\n",
    "# Define the coordinates where you want to place markers\n",
    "# Format: [(x1, y1), (x2, y2), ...]\n",
    "coordinates = [(467, 444), (467, 452), (475, 444), (475, 452)]\n",
    "\n",
    "# Separate the coordinates into X and Y for plotting\n",
    "x_coords = [x for x, y in coordinates]\n",
    "y_coords = [y for x, y in coordinates]\n",
    "\n",
    "# Create a new figure with a custom size\n",
    "plt.figure(figsize=(50, 50))\n",
    "\n",
    "# Display the image\n",
    "plt.imshow(np.abs(image_data), vmin=0, vmax=0.01)\n",
    "plt.colorbar()\n",
    "\n",
    "# Plot the specific points on the image\n",
    "plt.scatter(x_coords, y_coords, c='red', marker='o')\n",
    "\n",
    "plt.title('ASC Image with Specific Points')\n",
    "plt.show()"
   ]
  }
 ],
 "metadata": {
  "kernelspec": {
   "display_name": "Python 3 (ipykernel)",
   "language": "python",
   "name": "python3"
  },
  "language_info": {
   "codemirror_mode": {
    "name": "ipython",
    "version": 3
   },
   "file_extension": ".py",
   "mimetype": "text/x-python",
   "name": "python",
   "nbconvert_exporter": "python",
   "pygments_lexer": "ipython3",
   "version": "3.10.12"
  }
 },
 "nbformat": 4,
 "nbformat_minor": 5
}
